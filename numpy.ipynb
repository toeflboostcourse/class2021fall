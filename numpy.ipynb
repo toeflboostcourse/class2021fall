{
  "nbformat": 4,
  "nbformat_minor": 0,
  "metadata": {
    "kernelspec": {
      "display_name": "Python 3",
      "language": "python",
      "name": "python3"
    },
    "language_info": {
      "codemirror_mode": {
        "name": "ipython",
        "version": 3
      },
      "file_extension": ".py",
      "mimetype": "text/x-python",
      "name": "python",
      "nbconvert_exporter": "python",
      "pygments_lexer": "ipython3",
      "version": "3.7.1"
    },
    "colab": {
      "name": "numpy.ipynb",
      "provenance": [],
      "include_colab_link": true
    }
  },
  "cells": [
    {
      "cell_type": "markdown",
      "metadata": {
        "id": "view-in-github",
        "colab_type": "text"
      },
      "source": [
        "<a href=\"https://colab.research.google.com/github/wnyngj/class2021fall/blob/main/numpy.ipynb\" target=\"_parent\"><img src=\"https://colab.research.google.com/assets/colab-badge.svg\" alt=\"Open In Colab\"/></a>"
      ]
    },
    {
      "cell_type": "markdown",
      "metadata": {
        "id": "JcCdLoe_4bY7"
      },
      "source": [
        "### create nd arrays (≈matrices)"
      ]
    },
    {
      "cell_type": "code",
      "metadata": {
        "id": "5ap7xyofShBB"
      },
      "source": [
        "import numpy as np"
      ],
      "execution_count": 3,
      "outputs": []
    },
    {
      "cell_type": "code",
      "metadata": {
        "id": "2rqpSPZCShBC",
        "colab": {
          "base_uri": "https://localhost:8080/"
        },
        "outputId": "c729eb7d-2436-4e48-ad24-133eb333bc17"
      },
      "source": [
        "x = np.array([1,2,3])\n",
        "#array명시해주는 함수\n",
        "print(x)\n",
        "print(type(x)) \n",
        "print(x.shape) #n개의 dimensional array다 (1차원 = 1[])\n",
        "\n",
        "y = np.array([[1,2,3],[4,5,6]])\n",
        "print(y.shape) #1차원에선 원소 2개, 리스트 원소 각각 3개 원소 있음"
      ],
      "execution_count": 5,
      "outputs": [
        {
          "output_type": "stream",
          "name": "stdout",
          "text": [
            "[1 2 3]\n",
            "<class 'numpy.ndarray'>\n",
            "(3,)\n",
            "(2, 3)\n"
          ]
        }
      ]
    },
    {
      "cell_type": "code",
      "metadata": {
        "id": "EjC88C75ShBC",
        "colab": {
          "base_uri": "https://localhost:8080/"
        },
        "outputId": "2c72f55f-c3f9-4e6a-c26b-f3e209a295e3"
      },
      "source": [
        "x = np.arange(0,10,2) #0~10range인데 2만큼 증가시켜서 10되기 전 stop\n",
        "#1차원의 array를 만들어주는 함수\n",
        "print(x)\n",
        "print(type(x))\n",
        "print(x.shape)"
      ],
      "execution_count": null,
      "outputs": [
        {
          "output_type": "stream",
          "name": "stdout",
          "text": [
            "[0 2 4 6 8]\n",
            "<class 'numpy.ndarray'>\n",
            "(5,)\n"
          ]
        }
      ]
    },
    {
      "cell_type": "code",
      "metadata": {
        "id": "-MwkCEjTShBC",
        "colab": {
          "base_uri": "https://localhost:8080/"
        },
        "outputId": "11427674-886c-4f82-ca48-a1465f53223e"
      },
      "source": [
        "x = np.linspace(0,10,6) #0~10포함 해서 총 6개의 숫자를 만들어라 \n",
        "#liner한 space 만들어주는 함수\n",
        "print(x)\n",
        "print(type(x))\n",
        "print(x.shape)"
      ],
      "execution_count": null,
      "outputs": [
        {
          "output_type": "stream",
          "name": "stdout",
          "text": [
            "[ 0.  2.  4.  6.  8. 10.]\n",
            "<class 'numpy.ndarray'>\n",
            "(6,)\n"
          ]
        }
      ]
    },
    {
      "cell_type": "code",
      "metadata": {
        "id": "tjk79SQ27fNv",
        "colab": {
          "base_uri": "https://localhost:8080/"
        },
        "outputId": "3ff3368b-6bb1-4664-933e-8504613780b1"
      },
      "source": [
        "x = np.array([[1,2,3], [4,5,6]])\n",
        "print(x)\n",
        "print(type(x))\n",
        "print(x.shape)"
      ],
      "execution_count": null,
      "outputs": [
        {
          "output_type": "stream",
          "name": "stdout",
          "text": [
            "[[1 2 3]\n",
            " [4 5 6]]\n",
            "<class 'numpy.ndarray'>\n",
            "(2, 3)\n"
          ]
        }
      ]
    },
    {
      "cell_type": "code",
      "metadata": {
        "id": "C1ogg6iZ7yir",
        "colab": {
          "base_uri": "https://localhost:8080/"
        },
        "outputId": "baf27f4e-10a7-40bb-82f4-bf470d8de90c"
      },
      "source": [
        "x = np.array([[[1,2,3], [4,5,6]], [[7,8,9], [10,11,12]]])\n",
        "print(x)\n",
        "print(type(x))\n",
        "print(x.shape)"
      ],
      "execution_count": null,
      "outputs": [
        {
          "output_type": "stream",
          "name": "stdout",
          "text": [
            "[[[ 1  2  3]\n",
            "  [ 4  5  6]]\n",
            "\n",
            " [[ 7  8  9]\n",
            "  [10 11 12]]]\n",
            "<class 'numpy.ndarray'>\n",
            "(2, 2, 3)\n"
          ]
        }
      ]
    },
    {
      "cell_type": "code",
      "metadata": {
        "id": "efgeNHtD8ZlT",
        "colab": {
          "base_uri": "https://localhost:8080/"
        },
        "outputId": "047fb9dd-8c90-4dbf-9f12-35123bed1052"
      },
      "source": [
        "x = np.ones([2, 2, 3]) #2by2by3인 array를 만들고 그 안에 1을 채워라\n",
        "#만들라는 뜻이지 이 자체가 array란 말 아니지\n",
        "print(x)\n",
        "print(type(x))\n",
        "print(x.shape)"
      ],
      "execution_count": null,
      "outputs": [
        {
          "output_type": "stream",
          "name": "stdout",
          "text": [
            "[[[1. 1. 1.]\n",
            "  [1. 1. 1.]]\n",
            "\n",
            " [[1. 1. 1.]\n",
            "  [1. 1. 1.]]]\n",
            "<class 'numpy.ndarray'>\n",
            "(2, 2, 3)\n"
          ]
        }
      ]
    },
    {
      "cell_type": "code",
      "metadata": {
        "id": "b_F-ccY08zzl",
        "colab": {
          "base_uri": "https://localhost:8080/"
        },
        "outputId": "d56dd759-bbd1-48d5-d208-4a2084fe1cec"
      },
      "source": [
        "x = np.zeros([2, 2, 3]) #2by2by3인 array를 만들고 component 0을 채워라\n",
        "print(x)\n",
        "print(type(x))\n",
        "print(x.shape)\n",
        "x.reshape(3,2,2)"
      ],
      "execution_count": null,
      "outputs": [
        {
          "output_type": "stream",
          "name": "stdout",
          "text": [
            "[[[0. 0. 0.]\n",
            "  [0. 0. 0.]]\n",
            "\n",
            " [[0. 0. 0.]\n",
            "  [0. 0. 0.]]]\n",
            "<class 'numpy.ndarray'>\n",
            "(2, 2, 3)\n"
          ]
        },
        {
          "output_type": "execute_result",
          "data": {
            "text/plain": [
              "array([[[0., 0.],\n",
              "        [0., 0.]],\n",
              "\n",
              "       [[0., 0.],\n",
              "        [0., 0.]],\n",
              "\n",
              "       [[0., 0.],\n",
              "        [0., 0.]]])"
            ]
          },
          "metadata": {},
          "execution_count": 27
        }
      ]
    },
    {
      "cell_type": "markdown",
      "metadata": {
        "id": "0hQuDJ5g9gpE"
      },
      "source": [
        "### create random numbers"
      ]
    },
    {
      "cell_type": "code",
      "metadata": {
        "id": "QRatmkx79otL"
      },
      "source": [
        "import matplotlib.pyplot as plt #매트랩의 plotting과 관련된 library불러와라"
      ],
      "execution_count": 1,
      "outputs": []
    },
    {
      "cell_type": "code",
      "metadata": {
        "id": "z1oOAB6dShBD",
        "colab": {
          "base_uri": "https://localhost:8080/",
          "height": 863
        },
        "outputId": "e368a176-2d80-4535-911d-3d811185d18f"
      },
      "source": [
        "x = np.random.normal(0, 1, 100) #평균값, 표준편차, 리스트의 개수\n",
        "#np의 폴더 안 random이라는 폴더 안 normal함수\n",
        "print(x)\n",
        "print(type(x))\n",
        "print(x.shape)\n",
        "plt.hist(x, bins=10) #bins=그래프 bar의 개수. 개수가 많아질수록 해상도가 낮아짐"
      ],
      "execution_count": 7,
      "outputs": [
        {
          "output_type": "stream",
          "name": "stdout",
          "text": [
            "[-4.80618063e-01 -5.44078035e-01  4.92142301e-01  4.82130178e-01\n",
            " -7.25290349e-01 -6.47867767e-02 -1.02818716e-01 -2.22477981e+00\n",
            " -4.47229815e-01  1.34890023e+00 -6.90831081e-01  2.23361447e+00\n",
            " -9.88593348e-01  9.60962920e-01  1.02546314e+00 -2.66851517e-03\n",
            " -6.98416390e-01  7.85788944e-01 -8.16701035e-01  4.63825533e-02\n",
            " -6.43194654e-02 -7.61932036e-01  7.90225086e-01  2.18836479e+00\n",
            "  6.68370772e-01 -4.97587201e-02  6.12947968e-01  7.46653587e-01\n",
            " -1.96268314e-01 -1.72054774e+00  6.65478522e-02 -1.47504174e+00\n",
            "  4.43352043e-01 -3.60938035e-01  1.12632918e+00  3.29649644e-01\n",
            "  2.85909965e+00 -7.31301581e-02 -9.20466621e-01  5.52043933e-01\n",
            "  1.25031925e+00 -2.44687283e-01  9.59206698e-01 -2.96724509e-01\n",
            " -9.16107790e-01 -3.41937226e-01 -3.99855121e-01  1.52523263e+00\n",
            "  8.77229774e-01  6.39324316e-01 -9.92405721e-01 -4.33484520e-01\n",
            " -4.27629796e-01 -1.50604219e-01  9.00639075e-01 -1.10174277e-01\n",
            "  5.06356753e-01  5.77098496e-02  1.18416253e+00 -5.64321712e-01\n",
            " -1.85906014e+00  5.07495360e-01 -5.51837849e-01  8.42954368e-01\n",
            " -1.10557108e-02  1.71610329e+00 -6.15529369e-01  1.17780992e+00\n",
            "  5.26918918e-01  1.16652706e+00  4.13352584e-01 -8.16012516e-01\n",
            "  1.57714440e+00  5.33617579e-01  5.08720727e-01 -1.15023421e+00\n",
            "  8.91483424e-01 -7.94279745e-01  9.59710408e-01  3.34753805e-01\n",
            "  1.22185181e+00  1.73898260e+00  9.39914628e-01  1.32245676e+00\n",
            "  1.69447412e+00 -1.38478824e+00 -2.00160026e-01 -9.71052399e-01\n",
            " -1.04524145e-01  7.15661315e-01 -4.92451703e-01 -4.65708900e-01\n",
            " -9.97457785e-01 -4.05508631e-01  5.06573765e-01  2.01446437e-01\n",
            "  1.16381601e+00 -6.43928122e-01  8.53653439e-01  6.50317611e-02]\n",
            "<class 'numpy.ndarray'>\n",
            "(100,)\n"
          ]
        },
        {
          "output_type": "execute_result",
          "data": {
            "text/plain": [
              "(array([ 3.,  2., 12., 21., 15., 20., 18.,  6.,  2.,  1.]),\n",
              " array([-2.22477981, -1.71639186, -1.20800391, -0.69961597, -0.19122802,\n",
              "         0.31715992,  0.82554787,  1.33393582,  1.84232376,  2.35071171,\n",
              "         2.85909965]),\n",
              " <a list of 10 Patch objects>)"
            ]
          },
          "metadata": {},
          "execution_count": 7
        },
        {
          "output_type": "display_data",
          "data": {
            "image/png": "[encoded data removed]",
            "text/plain": [
              "<Figure size 432x288 with 1 Axes>"
            ]
          },
          "metadata": {
            "needs_background": "light"
          }
        }
      ]
    },
    {
      "cell_type": "markdown",
      "metadata": {
        "id": "G0exvwBbShBE"
      },
      "source": [
        "### generate a sine curve"
      ]
    },
    {
      "cell_type": "code",
      "metadata": {
        "id": "HgQmRXzMShBE",
        "colab": {
          "base_uri": "https://localhost:8080/",
          "height": 333
        },
        "outputId": "1046a4e5-5e49-46cc-a556-4b79ca64daf5"
      },
      "source": [
        "theta = np.linspace(0, 2*np.pi, 100) #0(포함)~2x파이(360)(포함)까지 100개의 숫자를 만들어라\n",
        "s = np.sin(theta) \n",
        "plt.plot(theta, s, '.') #(x,y, 점의 형태나 색깔)\n",
        "#예제\n",
        "#점의 개수는? = 100개\n",
        "\n",
        "#예제\n",
        "#theta안의 벡터의 길이는? = 100\n",
        "print(theta.shape)\n",
        "#1d array\n",
        "\n",
        "plt.xlabel('radian')\n",
        "plt.ylabel('value')\n",
        "plt.title('my first sine curve')"
      ],
      "execution_count": 10,
      "outputs": [
        {
          "output_type": "stream",
          "name": "stdout",
          "text": [
            "(100,)\n"
          ]
        },
        {
          "output_type": "execute_result",
          "data": {
            "text/plain": [
              "Text(0.5, 1.0, 'my first sine curve')"
            ]
          },
          "metadata": {},
          "execution_count": 10
        },
        {
          "output_type": "display_data",
          "data": {
            "image/png": "[encoded data removed]",
            "text/plain": [
              "<Figure size 432x288 with 1 Axes>"
            ]
          },
          "metadata": {
            "needs_background": "light"
          }
        }
      ]
    },
    {
      "cell_type": "code",
      "metadata": {
        "id": "WTqXoomZBbBk",
        "colab": {
          "base_uri": "https://localhost:8080/",
          "height": 314
        },
        "outputId": "173ba5fb-c586-45a6-af6c-be8dddbb954d"
      },
      "source": [
        "theta2 = np.linspace(0, 2*np.pi, 100) + np.pi/2 \n",
        "#마지막에 더한 90도로 인해 첫번째 값 0도 -> 90도로 shift (90도~450도)\n",
        "s2 = np.sin(theta2)\n",
        "plt.plot(theta2, s2, 'b:')\n",
        "\n",
        "plt.xlabel('radian')\n",
        "plt.ylabel('value')\n",
        "plt.title('my first sine curve')"
      ],
      "execution_count": 12,
      "outputs": [
        {
          "output_type": "execute_result",
          "data": {
            "text/plain": [
              "Text(0.5, 1.0, 'my first sine curve')"
            ]
          },
          "metadata": {},
          "execution_count": 12
        },
        {
          "output_type": "display_data",
          "data": {
            "image/png": "[encoded data removed]",
            "text/plain": [
              "<Figure size 432x288 with 1 Axes>"
            ]
          },
          "metadata": {
            "needs_background": "light"
          }
        }
      ]
    },
    {
      "cell_type": "code",
      "metadata": {
        "id": "TuH489v9BvQ7",
        "colab": {
          "base_uri": "https://localhost:8080/"
        },
        "outputId": "a1b1e9a7-3871-47da-8447-5d1b7deaeeca"
      },
      "source": [
        "np.corrcoef(s,s2) #correlation coefficient\n",
        "#s1이랑 s2 sine 곡선 비교하는 함수"
      ],
      "execution_count": null,
      "outputs": [
        {
          "output_type": "execute_result",
          "data": {
            "text/plain": [
              "array([[1.00000000e+00, 2.41915449e-17],\n",
              "       [2.41915449e-17, 1.00000000e+00]])"
            ]
          },
          "metadata": {},
          "execution_count": 54
        }
      ]
    }
  ]
}