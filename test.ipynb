{
  "nbformat": 4,
  "nbformat_minor": 0,
  "metadata": {
    "colab": {
      "name": "test.ipynb",
      "provenance": [],
      "authorship_tag": "ABX9TyN3YsiUk+LB5ZqUfHUiW3Uu",
      "include_colab_link": true
    },
    "kernelspec": {
      "name": "python3",
      "display_name": "Python 3"
    },
    "language_info": {
      "name": "python"
    }
  },
  "cells": [
    {
      "cell_type": "markdown",
      "metadata": {
        "id": "view-in-github",
        "colab_type": "text"
      },
      "source": [
        "<a href=\"https://colab.research.google.com/github/wnyngj/class2021fall/blob/main/test.ipynb\" target=\"_parent\"><img src=\"https://colab.research.google.com/assets/colab-badge.svg\" alt=\"Open In Colab\"/></a>"
      ]
    },
    {
      "cell_type": "markdown",
      "source": [
        " 변수(variables), 제어문(syntax),함수"
      ],
      "metadata": {
        "id": "IVwU_-6mMBgk"
      }
    },
    {
      "cell_type": "code",
      "execution_count": 13,
      "metadata": {
        "colab": {
          "base_uri": "https://localhost:8080/"
        },
        "id": "PyvI-my2L9nX",
        "outputId": "26bb9c19-65c5-4e86-df98-307296bba070"
      },
      "outputs": [
        {
          "output_type": "stream",
          "name": "stdout",
          "text": [
            "<class 'int'>\n",
            "<class 'str'>\n",
            "<class 'float'>\n",
            "<class 'list'>\n",
            "h\n",
            "b\n",
            "red fruit\n"
          ]
        }
      ],
      "source": [
        "a=1\n",
        "b='hello'\n",
        "c=1.1\n",
        "d=[1,'abc',2.1]\n",
        "e={\"apple\":\"red fruit\",\"banana\":\"yellow fruit\"}\n",
        "\n",
        "#123=4 오류남 왜? 숫자는 변수로 지정 못함\n",
        "\n",
        "# print(a)\n",
        "# 여기는 실행이 되지 않습니다.\n",
        "print(type(a))\n",
        "print(type(b))\n",
        "print(type(c))\n",
        "print(type(d))\n",
        "\n",
        "#인덱싱\n",
        "print(b[0])\n",
        "print(d[1][1])\n",
        "\n",
        "#e[0] 하면 오류 뜸\n",
        "print(e[\"apple\"])"
      ]
    }
  ]
}